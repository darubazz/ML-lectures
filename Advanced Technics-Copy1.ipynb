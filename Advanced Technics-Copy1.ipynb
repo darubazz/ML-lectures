{
 "cells": [
  {
   "cell_type": "markdown",
   "metadata": {},
   "source": [
    "# Джедайские техники\n",
    "## Генераторы списков\n",
    "\n",
    "Генераторы списков - это одна из главных составляющих выразительности python. Они позволяют удобно и быстро генерировать списки из любых итераторов и умещаются в одну строку:\n",
    "```python\n",
    "L = [i for i in range(10)]\n",
    "```\n",
    "\n",
    "Эквивалентно громоздкой конструкции:\n",
    "\n",
    "```python\n",
    "L = []\n",
    "for i in range(10):\n",
    "    L.append(i)\n",
    "```"
   ]
  },
  {
   "cell_type": "code",
   "execution_count": null,
   "metadata": {},
   "outputs": [],
   "source": [
    "L = [i for i in range(10)]\n",
    "print(f'[i for i in range(10)] = {L}')"
   ]
  },
  {
   "cell_type": "markdown",
   "metadata": {},
   "source": [
    "Во время генерации можно сразу применять функции к объектам, возвращаемым итератором:"
   ]
  },
  {
   "cell_type": "code",
   "execution_count": null,
   "metadata": {},
   "outputs": [],
   "source": [
    "squares = [i ** 2 for i in range(10)]\n",
    "print(f'[i ** 2 for i in range(10)] = {squares}')"
   ]
  },
  {
   "cell_type": "markdown",
   "metadata": {},
   "source": [
    "И сразу же применять фильтры. Для этого после объекта, по которому проходит итерирование записывается `if condition`, и элементы добавляются только если условие истинно.\n",
    "\n",
    "Допустим, мы хотим видеть только квадраты нечётных чисел:"
   ]
  },
  {
   "cell_type": "code",
   "execution_count": null,
   "metadata": {},
   "outputs": [],
   "source": [
    "odd_squares = [i ** 2 for i in range(20) if i % 2 == 1]\n",
    "print(f'[i ** 2 for i in range(20) if i % 2 == 1] = {odd_squares}')"
   ]
  },
  {
   "cell_type": "markdown",
   "metadata": {},
   "source": [
    "Разумеется, не обязательно использовать возвращаемую итератором переменную:"
   ]
  },
  {
   "cell_type": "code",
   "execution_count": null,
   "metadata": {},
   "outputs": [],
   "source": [
    "from random import random\n",
    "random_vector = [random() for i in range(5)]\n",
    "print(f'[random() for i in range(5)] = {random_vector}')"
   ]
  },
  {
   "cell_type": "markdown",
   "metadata": {},
   "source": [
    "# Генераторы словарей\n",
    "\n",
    "Подобным образом можно генерировать и словари. Синтаксис очень похожий: `{key: value for *** in ***}`"
   ]
  },
  {
   "cell_type": "code",
   "execution_count": null,
   "metadata": {},
   "outputs": [],
   "source": [
    "squares = {i: i**2 for i in range(1, 11) if i % 2}\n",
    "print(squares)"
   ]
  },
  {
   "cell_type": "markdown",
   "metadata": {},
   "source": [
    "# enumerate\n",
    "\n",
    "В ядре python существует функция `enumerate(collection)`. Она берёт в качестве аргумента коллекцию, и возвращает итератор по кортежам пар (0, collection[0]), (1, collection[1]) ...\n",
    "Характер, по большому счёту, исключительно косметический. Она позволяет не использовать отдельную переменную-счётчик при итерации по коллекции. "
   ]
  },
  {
   "cell_type": "code",
   "execution_count": null,
   "metadata": {},
   "outputs": [],
   "source": [
    "region_code = ['01', '02', '03', '04']\n",
    "region_name = ['Адыгея', 'Башкортостан', 'Бурятия', 'Алтай']\n",
    "\n",
    "for idx, code in enumerate(region_code):\n",
    "    print(f'{region_name[idx]} [{code}]')"
   ]
  },
  {
   "cell_type": "markdown",
   "metadata": {},
   "source": [
    "# zip\n",
    "\n",
    "Однако, если нужно итерироваться сразу по паре коллекций - лучший выбор встроенная функция `zip()`. Она берёт на вход несколько списков (или других коллекций) и создаёт из них итератор по **кортежам** соответствующих элементов списков:"
   ]
  },
  {
   "cell_type": "code",
   "execution_count": null,
   "metadata": {},
   "outputs": [],
   "source": [
    "region_code = ['01', '02', '03', '04']\n",
    "region_name = ['Адыгея', 'Башкортостан', 'Бурятия', 'Алтай']\n",
    "\n",
    "for tup in zip(region_code, region_name):\n",
    "    print(tup)"
   ]
  },
  {
   "cell_type": "markdown",
   "metadata": {},
   "source": [
    "Это удобно, например, для создания словарей:"
   ]
  },
  {
   "cell_type": "code",
   "execution_count": 1,
   "metadata": {},
   "outputs": [
    {
     "name": "stdout",
     "output_type": "stream",
     "text": [
      "regions = {'01': 'Адыгея', '02': 'Башкортостан', '03': 'Бурятия', '04': 'Алтай'}\n",
      "regions['01'] = Адыгея\n"
     ]
    }
   ],
   "source": [
    "region_code = ['01', '02', '03', '04']\n",
    "region_name = ['Адыгея', 'Башкортостан', 'Бурятия', 'Алтай']\n",
    "\n",
    "regions = {code: name for code, name in zip(region_code, region_name)}\n",
    "print(f'regions = {regions}')\n",
    "print(f\"regions['01'] = {regions['01']}\")"
   ]
  },
  {
   "cell_type": "markdown",
   "metadata": {},
   "source": [
    "# sorted() with key\n",
    "\n",
    "Встроенная функция сортировки коллекций `sorted()` позволяет задавать пользовательские условия для сортировки объектов в коллекции. Для этого нужно указать именнованный аргумент `key` и передать в него некоторую функцию `f`. Тогда ***объекты будут сортироваться в соответствии со значениями функций от этих объектов**:"
   ]
  },
  {
   "cell_type": "code",
   "execution_count": 3,
   "metadata": {},
   "outputs": [
    {
     "name": "stdout",
     "output_type": "stream",
     "text": [
      "L = [6, -5, 2, -3, 1, -10]\n",
      "\n",
      "sorted(L) = [-10, -5, -3, 1, 2, 6]\n",
      "sorted(L, key=abs) = [1, 2, -3, -5, 6, -10]\n"
     ]
    }
   ],
   "source": [
    "L = [6, -5, 2, -3, 1, -10]\n",
    "\n",
    "print(f'L = {L}')\n",
    "print(f'\\nsorted(L) = {sorted(L)}')\n",
    "print(f'sorted(L, key=abs) = {sorted(L, key=abs)}')"
   ]
  },
  {
   "cell_type": "markdown",
   "metadata": {},
   "source": [
    "Если сделать сортировку строк, то сортировка будет проводиться в алфавитном порядке. А если нам вздумалось отсортировать по длине?"
   ]
  },
  {
   "cell_type": "code",
   "execution_count": 10,
   "metadata": {},
   "outputs": [
    {
     "name": "stdout",
     "output_type": "stream",
     "text": [
      "words = ['каждый', 'охотник', 'желает', 'знать', 'где', 'сидит', 'фазан']\n",
      "\n",
      "sorted(words) = ['где', 'желает', 'знать', 'каждый', 'охотник', 'сидит', 'фазан']\n",
      "sorted(words, key=len) = ['где', 'знать', 'сидит', 'фазан', 'каждый', 'желает', 'охотник']\n"
     ]
    }
   ],
   "source": [
    "words = 'каждый охотник желает знать где сидит фазан'.split(' ')\n",
    "\n",
    "print(f'words = {words}')\n",
    "print(f'\\nsorted(words) = {sorted(words)}')\n",
    "print(f'sorted(words, key=len) = {sorted(words, key=len)}')"
   ]
  },
  {
   "cell_type": "markdown",
   "metadata": {},
   "source": [
    "Таким же образом можно сортировать словари по значениям, а не по ключам:"
   ]
  },
  {
   "cell_type": "code",
   "execution_count": 16,
   "metadata": {},
   "outputs": [
    {
     "name": "stdout",
     "output_type": "stream",
     "text": [
      "area = {'Бразилия': 8.515, 'Канада': 9.985, 'США': 9.631, 'Китай': 9.597, 'Россия': 17.1}\n",
      "\n",
      "sorted(area) = ['Бразилия', 'Канада', 'Китай', 'Россия', 'США']\n",
      "\n",
      "sorted(area, key=lambda x: area[x]) = ['Бразилия', 'Китай', 'США', 'Канада', 'Россия']\n",
      "sorted(area, key=lambda x: area[x], reverse=True) = ['Россия', 'Канада', 'США', 'Китай', 'Бразилия']\n"
     ]
    }
   ],
   "source": [
    "area = {'Бразилия': 8.515, 'Канада': 9.985, 'США': 9.631, 'Китай': 9.597, 'Россия': 17.1}\n",
    "\n",
    "print(f'area = {area}')\n",
    "print(f'\\nsorted(area) = {sorted(area)}')\n",
    "print(f'\\nsorted(area, key=lambda x: area[x]) = {sorted(area, key=lambda x: area[x])}')\n",
    "print(f'sorted(area, key=lambda x: area[x], reverse=True) = {sorted(area, key=lambda x: area[x], reverse=True)}')"
   ]
  },
  {
   "cell_type": "markdown",
   "metadata": {},
   "source": [
    "# functools.partial\n",
    "\n",
    "Ещё одна приятная штука в буднях питониста - это `partial` функции. Как это перевести на наш? Пускай будет частная. Итак, частная функция - это когда мы создаём новую функцию из старой, фиксируя какие-то её параметры.\n",
    "\n",
    "Использование: `partial(f, arg1=val1, arg2=val2, ...)`"
   ]
  },
  {
   "cell_type": "code",
   "execution_count": 13,
   "metadata": {},
   "outputs": [
    {
     "ename": "TypeError",
     "evalue": "'args' is an invalid keyword argument for this function",
     "output_type": "error",
     "traceback": [
      "\u001b[0;31m---------------------------------------------------------------------------\u001b[0m",
      "\u001b[0;31mTypeError\u001b[0m                                 Traceback (most recent call last)",
      "\u001b[0;32m<ipython-input-13-ca4d2ccdce4f>\u001b[0m in \u001b[0;36m<module>\u001b[0;34m()\u001b[0m\n\u001b[1;32m      3\u001b[0m \u001b[0mprintln\u001b[0m \u001b[0;34m=\u001b[0m \u001b[0mpartial\u001b[0m\u001b[0;34m(\u001b[0m\u001b[0mprint\u001b[0m\u001b[0;34m,\u001b[0m \u001b[0margs\u001b[0m\u001b[0;34m=\u001b[0m\u001b[0;34m[\u001b[0m\u001b[0;36m1\u001b[0m\u001b[0;34m]\u001b[0m\u001b[0;34m,\u001b[0m \u001b[0mend\u001b[0m\u001b[0;34m=\u001b[0m\u001b[0;34m' '\u001b[0m\u001b[0;34m)\u001b[0m\u001b[0;34m\u001b[0m\u001b[0m\n\u001b[1;32m      4\u001b[0m \u001b[0;34m\u001b[0m\u001b[0m\n\u001b[0;32m----> 5\u001b[0;31m \u001b[0mprintln\u001b[0m\u001b[0;34m(\u001b[0m\u001b[0;36m1\u001b[0m\u001b[0;34m,\u001b[0m \u001b[0;36m2\u001b[0m\u001b[0;34m,\u001b[0m \u001b[0;36m3\u001b[0m\u001b[0;34m)\u001b[0m\u001b[0;34m\u001b[0m\u001b[0m\n\u001b[0m\u001b[1;32m      6\u001b[0m \u001b[0mprintln\u001b[0m\u001b[0;34m(\u001b[0m\u001b[0;36m4\u001b[0m\u001b[0;34m,\u001b[0m \u001b[0;36m5\u001b[0m\u001b[0;34m,\u001b[0m \u001b[0;36m6\u001b[0m\u001b[0;34m)\u001b[0m\u001b[0;34m\u001b[0m\u001b[0m\n",
      "\u001b[0;31mTypeError\u001b[0m: 'args' is an invalid keyword argument for this function"
     ]
    }
   ],
   "source": [
    "from functools import partial\n",
    "\n",
    "println = partial(print, end=' ')\n",
    "int(10, base=3)\n",
    "println(1, 2, 3)\n",
    "println(4, 5, 6)\n"
   ]
  },
  {
   "cell_type": "code",
   "execution_count": 10,
   "metadata": {},
   "outputs": [
    {
     "data": {
      "text/plain": [
       "15"
      ]
     },
     "execution_count": 10,
     "metadata": {},
     "output_type": "execute_result"
    }
   ],
   "source": [
    "def foo(x, y, z, c=3):\n",
    "    return c * (x + y + z)\n",
    "\n",
    "partfoo = partial(foo, z=2)\n",
    "partfoo(1, 2)"
   ]
  }
 ],
 "metadata": {
  "kernelspec": {
   "display_name": "Python 3",
   "language": "python",
   "name": "python3"
  },
  "language_info": {
   "codemirror_mode": {
    "name": "ipython",
    "version": 3
   },
   "file_extension": ".py",
   "mimetype": "text/x-python",
   "name": "python",
   "nbconvert_exporter": "python",
   "pygments_lexer": "ipython3",
   "version": "3.8.2"
  }
 },
 "nbformat": 4,
 "nbformat_minor": 2
}
