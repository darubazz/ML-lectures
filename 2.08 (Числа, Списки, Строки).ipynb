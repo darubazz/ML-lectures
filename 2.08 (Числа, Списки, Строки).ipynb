{
 "cells": [
  {
   "cell_type": "code",
   "execution_count": 2,
   "metadata": {},
   "outputs": [
    {
     "name": "stdout",
     "output_type": "stream",
     "text": [
      "Hello, world!\n"
     ]
    }
   ],
   "source": [
    "print(\"Hello, world!\")"
   ]
  },
  {
   "cell_type": "code",
   "execution_count": 4,
   "metadata": {},
   "outputs": [
    {
     "name": "stdout",
     "output_type": "stream",
     "text": [
      "2 + 2 = \n",
      "4\n"
     ]
    }
   ],
   "source": [
    "print(\"2 + 2 = \")\n",
    "print(2 + 2)"
   ]
  },
  {
   "cell_type": "code",
   "execution_count": 5,
   "metadata": {},
   "outputs": [
    {
     "name": "stdout",
     "output_type": "stream",
     "text": [
      "Hello, world\n"
     ]
    }
   ],
   "source": [
    "x = \"Hello, world\"\n",
    "print(x)"
   ]
  },
  {
   "cell_type": "code",
   "execution_count": 8,
   "metadata": {},
   "outputs": [
    {
     "name": "stdout",
     "output_type": "stream",
     "text": [
      "Hello-world-!\n"
     ]
    }
   ],
   "source": [
    "hello = \"Hello\"\n",
    "world = 'world'\n",
    "bang = '!'\n",
    "\n",
    "print(hello, world, bang, sep='-')"
   ]
  },
  {
   "cell_type": "code",
   "execution_count": 10,
   "metadata": {},
   "outputs": [
    {
     "name": "stdout",
     "output_type": "stream",
     "text": [
      "Hello, world!\n",
      "3.14159\n"
     ]
    }
   ],
   "source": [
    "var = \"Hello, world!\"\n",
    "print(var)\n",
    "\n",
    "var = 3.14159\n",
    "print(var)"
   ]
  },
  {
   "cell_type": "markdown",
   "metadata": {
    "heading_collapsed": true
   },
   "source": [
    "# Числа"
   ]
  },
  {
   "cell_type": "code",
   "execution_count": 13,
   "metadata": {
    "hidden": true
   },
   "outputs": [
    {
     "name": "stdout",
     "output_type": "stream",
     "text": [
      "5 <class 'int'>\n",
      "2 <class 'int'>\n"
     ]
    }
   ],
   "source": [
    "a = 5\n",
    "b = 2\n",
    "\n",
    "print(a, type(a))\n",
    "print(b, type(b))"
   ]
  },
  {
   "cell_type": "code",
   "execution_count": 16,
   "metadata": {
    "hidden": true
   },
   "outputs": [
    {
     "name": "stdout",
     "output_type": "stream",
     "text": [
      "7 <class 'int'>\n"
     ]
    }
   ],
   "source": [
    "a = 5\n",
    "b = 2\n",
    "\n",
    "a += b\n",
    "\n",
    "print(a, type(a))"
   ]
  },
  {
   "cell_type": "code",
   "execution_count": null,
   "metadata": {
    "hidden": true
   },
   "outputs": [],
   "source": [
    "a = 2\n",
    "b = .5\n",
    "\n",
    "print(a, type(a))\n",
    "print(b, type(b))\n",
    "\n",
    "a += b\n",
    "print(a, type(a))\n",
    "\n",
    "a *= 2\n",
    "print(a, type(a))"
   ]
  },
  {
   "cell_type": "code",
   "execution_count": 28,
   "metadata": {
    "hidden": true
   },
   "outputs": [
    {
     "name": "stdout",
     "output_type": "stream",
     "text": [
      "8 <class 'int'>\n"
     ]
    }
   ],
   "source": [
    "a = 7.5\n",
    "a = round(a)\n",
    "print(a, type(a))"
   ]
  },
  {
   "cell_type": "code",
   "execution_count": 38,
   "metadata": {
    "hidden": true
   },
   "outputs": [
    {
     "name": "stdout",
     "output_type": "stream",
     "text": [
      "3 <class 'int'>\n"
     ]
    }
   ],
   "source": [
    "a = 11\n",
    "b = 3\n",
    "\n",
    "c = a // b\n",
    "print(c, type(c))"
   ]
  },
  {
   "cell_type": "code",
   "execution_count": 42,
   "metadata": {
    "hidden": true
   },
   "outputs": [
    {
     "name": "stdout",
     "output_type": "stream",
     "text": [
      "4.440892098500626e-16\n"
     ]
    }
   ],
   "source": [
    "a = 0.1\n",
    "b = 0.2\n",
    "\n",
    "float_three = 10 * (a + b)\n",
    "int_three = 3\n",
    "\n",
    "print(float_three - int_three)"
   ]
  },
  {
   "cell_type": "code",
   "execution_count": 48,
   "metadata": {
    "hidden": true
   },
   "outputs": [
    {
     "name": "stdout",
     "output_type": "stream",
     "text": [
      "CPU times: user 53 µs, sys: 1 µs, total: 54 µs\n",
      "Wall time: 56.5 µs\n"
     ]
    }
   ],
   "source": [
    "%%time\n",
    "from math import factorial\n",
    "\n",
    "f = factorial(1000)"
   ]
  },
  {
   "cell_type": "code",
   "execution_count": 54,
   "metadata": {
    "hidden": true
   },
   "outputs": [
    {
     "name": "stdout",
     "output_type": "stream",
     "text": [
      "15511210043330985984000000\n",
      "1.5511210043330986e+25\n",
      "1\n",
      "0.0\n"
     ]
    }
   ],
   "source": [
    "from math import factorial\n",
    "\n",
    "i = factorial(25)\n",
    "f = float(i)  # i / 1 | i * 1.\n",
    "\n",
    "print(i)\n",
    "print(f)\n",
    "\n",
    "i_plus_one = i + 1\n",
    "print(i_plus_one - i)\n",
    "print(i_plus_one - f)"
   ]
  },
  {
   "cell_type": "code",
   "execution_count": 58,
   "metadata": {
    "hidden": true
   },
   "outputs": [
    {
     "name": "stdout",
     "output_type": "stream",
     "text": [
      "(0.62-0.34j)\n"
     ]
    }
   ],
   "source": [
    "z1 = complex(3, 4)\n",
    "z2 = complex(1, 7)\n",
    "z3 = z1 / z2\n",
    "print(z3)\n",
    "# print(z2)"
   ]
  },
  {
   "cell_type": "code",
   "execution_count": 61,
   "metadata": {
    "hidden": true
   },
   "outputs": [
    {
     "data": {
      "text/plain": [
       "complex"
      ]
     },
     "execution_count": 61,
     "metadata": {},
     "output_type": "execute_result"
    }
   ],
   "source": [
    "complex_j = (-1.0) ** (0.5)\n",
    "type(complex_j)"
   ]
  },
  {
   "cell_type": "markdown",
   "metadata": {
    "heading_collapsed": true
   },
   "source": [
    "# Списки"
   ]
  },
  {
   "cell_type": "code",
   "execution_count": 63,
   "metadata": {
    "hidden": true
   },
   "outputs": [
    {
     "name": "stdout",
     "output_type": "stream",
     "text": [
      "[1, 2, 3] <class 'list'>\n"
     ]
    }
   ],
   "source": [
    "L1 = [1, 2, 3]\n",
    "print(L1, type(L1))"
   ]
  },
  {
   "cell_type": "code",
   "execution_count": 71,
   "metadata": {
    "hidden": true
   },
   "outputs": [
    {
     "name": "stdout",
     "output_type": "stream",
     "text": [
      "[1, 4, 9, ['x', 'y', 'z']]\n"
     ]
    }
   ],
   "source": [
    "L1 = []\n",
    "L1.append(1) # Добавляет элемент в конец списка\n",
    "L1.append(4)\n",
    "L1.append(9)\n",
    "\n",
    "L2 = ['x', 'y', 'z']\n",
    "\n",
    "L1.append(L2)\n",
    "\n",
    "\n",
    "print(L1)"
   ]
  },
  {
   "cell_type": "code",
   "execution_count": 74,
   "metadata": {
    "hidden": true
   },
   "outputs": [
    {
     "data": {
      "text/plain": [
       "[0, 1, 2, 3, 4, 5, 6, 7, 8, 9]"
      ]
     },
     "execution_count": 74,
     "metadata": {},
     "output_type": "execute_result"
    }
   ],
   "source": [
    "list(range(10))  # Создание списка из любой другой коллекции или объекта, на котором определён итератор"
   ]
  },
  {
   "cell_type": "code",
   "execution_count": 86,
   "metadata": {
    "hidden": true
   },
   "outputs": [
    {
     "data": {
      "text/plain": [
       "'z'"
      ]
     },
     "execution_count": 86,
     "metadata": {},
     "output_type": "execute_result"
    }
   ],
   "source": [
    "L1 = list('xyz')\n",
    "L1[-1]"
   ]
  },
  {
   "cell_type": "code",
   "execution_count": 101,
   "metadata": {
    "hidden": true
   },
   "outputs": [
    {
     "name": "stdout",
     "output_type": "stream",
     "text": [
      "[0, 1, 2, 3, 4, 5, 6, 7, 8, 9]\n"
     ]
    },
    {
     "data": {
      "text/plain": [
       "[0, 2, 4, 6, 8]"
      ]
     },
     "execution_count": 101,
     "metadata": {},
     "output_type": "execute_result"
    }
   ],
   "source": [
    "L1 = list(range(10))\n",
    "print(L1)\n",
    "L1[::2]"
   ]
  },
  {
   "cell_type": "code",
   "execution_count": 102,
   "metadata": {
    "hidden": true
   },
   "outputs": [
    {
     "name": "stdout",
     "output_type": "stream",
     "text": [
      "['x', 'y', 'z']\n",
      "['x', 'y', 'z']\n"
     ]
    }
   ],
   "source": [
    "L1 = ['x', 'y', 'z']\n",
    "L2 = L1\n",
    "\n",
    "print(L1)\n",
    "print(L2)"
   ]
  },
  {
   "cell_type": "code",
   "execution_count": 114,
   "metadata": {
    "hidden": true
   },
   "outputs": [
    {
     "name": "stdout",
     "output_type": "stream",
     "text": [
      "5\n",
      "5\n",
      "0x555cbf6aa780\n",
      "0x555cbf6aa780\n"
     ]
    }
   ],
   "source": [
    "L1 = 5\n",
    "L2 = L1\n",
    "\n",
    "L2 = L2 + 5\n",
    "print(L1)\n",
    "print(L2)\n",
    "\n",
    "print(hex(id(L1)))\n",
    "print(hex(id(L2)))"
   ]
  },
  {
   "cell_type": "code",
   "execution_count": 119,
   "metadata": {
    "hidden": true
   },
   "outputs": [
    {
     "name": "stdout",
     "output_type": "stream",
     "text": [
      "[1, 2, [3, 4]]\n",
      "[1, 2, [3, 4, 5]]\n"
     ]
    }
   ],
   "source": [
    "from copy import deepcopy\n",
    "\n",
    "L1 = [1, 2, [3, 4]]\n",
    "L2 = deepcopy(L1)\n",
    "\n",
    "L2[2].append(5)\n",
    "\n",
    "print(L1)\n",
    "print(L2)"
   ]
  },
  {
   "cell_type": "code",
   "execution_count": 121,
   "metadata": {
    "hidden": true
   },
   "outputs": [
    {
     "name": "stdout",
     "output_type": "stream",
     "text": [
      "10\n"
     ]
    }
   ],
   "source": [
    "L1 = list(range(10))\n",
    "print(len(L1))"
   ]
  },
  {
   "cell_type": "code",
   "execution_count": 122,
   "metadata": {
    "hidden": true
   },
   "outputs": [
    {
     "name": "stdout",
     "output_type": "stream",
     "text": [
      "45\n"
     ]
    }
   ],
   "source": [
    "L1 = list(range(10))\n",
    "print(sum(L1))"
   ]
  },
  {
   "cell_type": "code",
   "execution_count": 127,
   "metadata": {
    "hidden": true
   },
   "outputs": [
    {
     "name": "stdout",
     "output_type": "stream",
     "text": [
      "До append и extend:\n",
      "[1, 2, 3]\n",
      "[1, 2, 3]\n",
      "['x', 'y', 'z']\n",
      "После: \n",
      "[1, 2, 3, ['x', 'y', 'z']]\n",
      "[1, 2, 3, 'x', 'y', 'z']\n"
     ]
    }
   ],
   "source": [
    "L1 = [1, 2, 3]\n",
    "L2 = [1, 2, 3]\n",
    "L3 = list('xyz')\n",
    "\n",
    "print('До append и extend:')\n",
    "print(L1)\n",
    "print(L2)\n",
    "print(L3)\n",
    "\n",
    "L1.append(L3)\n",
    "L2.extend(L3)\n",
    "print('После: ')\n",
    "print(L1)\n",
    "print(L2)"
   ]
  },
  {
   "cell_type": "code",
   "execution_count": 129,
   "metadata": {
    "hidden": true
   },
   "outputs": [
    {
     "name": "stdout",
     "output_type": "stream",
     "text": [
      "[1, 'Здравствуйте, меня зовут Оля, я представитель компании Oriflame', 2, 3]\n"
     ]
    }
   ],
   "source": [
    "L1 = [1, 2, 3]\n",
    "L1.insert(1, 'Здравствуйте, меня зовут Оля, я представитель компании Oriflame')\n",
    "\n",
    "print(L1)"
   ]
  },
  {
   "cell_type": "code",
   "execution_count": 133,
   "metadata": {
    "hidden": true
   },
   "outputs": [
    {
     "name": "stdout",
     "output_type": "stream",
     "text": [
      "До: \n",
      "[1, 2, 3]\n",
      "[9, 2, 8]\n",
      "После:\n",
      "[3, 2, 1]\n",
      "[2, 8, 9]\n"
     ]
    }
   ],
   "source": [
    "L1 = [1, 2, 3]\n",
    "L2 = [9, 2, 8]\n",
    "\n",
    "print(\"До: \")\n",
    "print(L1)\n",
    "print(L2)\n",
    "\n",
    "L1.reverse()\n",
    "L2.sort()\n",
    "\n",
    "print('После:')\n",
    "print(L1)\n",
    "print(L2)"
   ]
  },
  {
   "cell_type": "code",
   "execution_count": 137,
   "metadata": {
    "hidden": true
   },
   "outputs": [
    {
     "name": "stdout",
     "output_type": "stream",
     "text": [
      "До: \n",
      "[1, 2, 3]\n",
      "[9, 2, 8]\n",
      "После:\n",
      "[1, 2, 3]\n",
      "[9, 2, 8]\n",
      "[3, 2, 1]\n",
      "[2, 8, 9]\n"
     ]
    }
   ],
   "source": [
    "L1 = [1, 2, 3]\n",
    "L2 = [9, 2, 8]\n",
    "\n",
    "print(\"До: \")\n",
    "print(L1)\n",
    "print(L2)\n",
    "\n",
    "L3 = list(reversed(L1))\n",
    "L4 = sorted(L2)\n",
    "\n",
    "print('После:')\n",
    "print(L1)\n",
    "print(L2)\n",
    "print(L3)\n",
    "print(L4)"
   ]
  },
  {
   "cell_type": "code",
   "execution_count": 140,
   "metadata": {
    "hidden": true
   },
   "outputs": [
    {
     "name": "stdout",
     "output_type": "stream",
     "text": [
      "False <class 'bool'>\n"
     ]
    }
   ],
   "source": [
    "L1 = [1, 2, 3]\n",
    "\n",
    "in_var = 4 in L1 \n",
    "\n",
    "print(in_var, type(in_var))"
   ]
  },
  {
   "cell_type": "code",
   "execution_count": 143,
   "metadata": {
    "hidden": true
   },
   "outputs": [
    {
     "name": "stdout",
     "output_type": "stream",
     "text": [
      "2\n",
      "0\n"
     ]
    }
   ],
   "source": [
    "L = [1, 2, 2, 3, 3, 3]\n",
    "print(L.count(2))\n",
    "print(L.count(4))"
   ]
  },
  {
   "cell_type": "code",
   "execution_count": 150,
   "metadata": {
    "hidden": true
   },
   "outputs": [
    {
     "ename": "TypeError",
     "evalue": "can't multiply sequence by non-int of type 'float'",
     "output_type": "error",
     "traceback": [
      "\u001b[0;31m---------------------------------------------------------------------------\u001b[0m",
      "\u001b[0;31mTypeError\u001b[0m                                 Traceback (most recent call last)",
      "\u001b[0;32m<ipython-input-150-4b20880f51c5>\u001b[0m in \u001b[0;36m<module>\u001b[0;34m\u001b[0m\n\u001b[1;32m      2\u001b[0m \u001b[0mL2\u001b[0m \u001b[0;34m=\u001b[0m \u001b[0;34m[\u001b[0m\u001b[0;36m4\u001b[0m\u001b[0;34m,\u001b[0m \u001b[0;36m5\u001b[0m\u001b[0;34m,\u001b[0m \u001b[0;36m6\u001b[0m\u001b[0;34m]\u001b[0m\u001b[0;34m\u001b[0m\u001b[0;34m\u001b[0m\u001b[0m\n\u001b[1;32m      3\u001b[0m \u001b[0;34m\u001b[0m\u001b[0m\n\u001b[0;32m----> 4\u001b[0;31m \u001b[0mL1\u001b[0m \u001b[0;34m*\u001b[0m \u001b[0;36m5.\u001b[0m\u001b[0;34m\u001b[0m\u001b[0;34m\u001b[0m\u001b[0m\n\u001b[0m",
      "\u001b[0;31mTypeError\u001b[0m: can't multiply sequence by non-int of type 'float'"
     ]
    }
   ],
   "source": [
    "L1 = [1, 2, 3]\n",
    "L2 = [4, 5, 6]\n",
    "\n",
    "L1 * 5"
   ]
  },
  {
   "cell_type": "code",
   "execution_count": 152,
   "metadata": {
    "hidden": true
   },
   "outputs": [
    {
     "data": {
      "text/plain": [
       "[10, 2, 3]"
      ]
     },
     "execution_count": 152,
     "metadata": {},
     "output_type": "execute_result"
    }
   ],
   "source": [
    "L1 = [1, 2, 3]\n",
    "L1[0] = 10\n",
    "L1"
   ]
  },
  {
   "cell_type": "markdown",
   "metadata": {},
   "source": [
    "# Строки"
   ]
  },
  {
   "cell_type": "code",
   "execution_count": 157,
   "metadata": {},
   "outputs": [
    {
     "name": "stdout",
     "output_type": "stream",
     "text": [
      "А это весёлая птица синица\n",
      "Которая часто ворует пшеницу, \n",
      "Которая в темном чулане храница\n",
      "В доме,\n",
      "который построил Джек\n"
     ]
    }
   ],
   "source": [
    "a = 'А это весёлая птица синица'\n",
    "b = \"Которая часто ворует пшеницу, \"\n",
    "\n",
    "c = \"\"\"Которая в темном чулане храница\n",
    "В доме,\n",
    "который построил Джек\"\"\"\n",
    "\n",
    "print(a)\n",
    "print(b)\n",
    "print(c)"
   ]
  },
  {
   "cell_type": "code",
   "execution_count": 161,
   "metadata": {},
   "outputs": [
    {
     "name": "stdout",
     "output_type": "stream",
     "text": [
      "Атос, Портос, Арамис и Д'Артаньян\n",
      "\"Деньги\" по-английски будут \"money\"\n"
     ]
    }
   ],
   "source": [
    "print(\"Атос, Портос, Арамис и Д'Артаньян\")\n",
    "print('\"Деньги\" по-английски будут \"money\"')"
   ]
  },
  {
   "cell_type": "code",
   "execution_count": 168,
   "metadata": {},
   "outputs": [
    {
     "name": "stdout",
     "output_type": "stream",
     "text": [
      "А Вас, Штирлиц, я попрошу остаться\n"
     ]
    }
   ],
   "source": [
    "username = 'Штирлиц'\n",
    "message = f\"А Вас, {username}, я попрошу остаться\"\n",
    "\n",
    "print(message)"
   ]
  },
  {
   "cell_type": "code",
   "execution_count": 173,
   "metadata": {},
   "outputs": [
    {
     "name": "stdout",
     "output_type": "stream",
     "text": [
      "[1, 2, 3]\n",
      "10\n",
      "0.3333333333333333\n"
     ]
    }
   ],
   "source": [
    "L = [1, 2, 3]\n",
    "a = 10\n",
    "b = 1 / 3\n",
    "\n",
    "S1 = str(L)\n",
    "S2 = str(a)\n",
    "S3 = str(b)\n",
    "\n",
    "print(S1)\n",
    "print(S2)\n",
    "print(S3)"
   ]
  },
  {
   "cell_type": "code",
   "execution_count": 179,
   "metadata": {},
   "outputs": [
    {
     "data": {
      "text/plain": [
       "'Решили пойти купить выпить'"
      ]
     },
     "execution_count": 179,
     "metadata": {},
     "output_type": "execute_result"
    }
   ],
   "source": [
    "sentence = ['Решили', 'пойти', 'купить', 'выпить']\n",
    "sep = ' -> '\n",
    "\n",
    "' '.join(sentence)"
   ]
  },
  {
   "cell_type": "code",
   "execution_count": 184,
   "metadata": {},
   "outputs": [
    {
     "name": "stdout",
     "output_type": "stream",
     "text": [
      "Каждый охотник желает знать где сидит фазан\n",
      "К\n",
      "фазан\n"
     ]
    }
   ],
   "source": [
    "s = \"Каждый охотник желает знать где сидит фазан\"\n",
    "\n",
    "print(s)\n",
    "print(s[0])\n",
    "print(s[-5:])"
   ]
  },
  {
   "cell_type": "code",
   "execution_count": 198,
   "metadata": {},
   "outputs": [
    {
     "name": "stdout",
     "output_type": "stream",
     "text": [
      "Судак\n"
     ]
    }
   ],
   "source": [
    "s = 'Чудак'\n",
    "l = list(s)\n",
    "l[0] = 'С'\n",
    "s = ''.join(l)\n",
    "\n",
    "print(s)\n"
   ]
  },
  {
   "cell_type": "code",
   "execution_count": 196,
   "metadata": {},
   "outputs": [
    {
     "name": "stdout",
     "output_type": "stream",
     "text": [
      "Hello World\n"
     ]
    }
   ],
   "source": [
    "s1 = 'Hello'\n",
    "s2 = 'World'\n",
    "s3 = s1 + ' ' + s2\n",
    "print(s3)"
   ]
  },
  {
   "cell_type": "code",
   "execution_count": 199,
   "metadata": {},
   "outputs": [
    {
     "data": {
      "text/plain": [
       "'тык-дык-тык-дык-тык-дык-тык-дык-тык-дык-тык-дык-тык-дык-тык-дык-тык-дык-тык-дык-'"
      ]
     },
     "execution_count": 199,
     "metadata": {},
     "output_type": "execute_result"
    }
   ],
   "source": [
    "'тык-дык-' * 10  "
   ]
  },
  {
   "cell_type": "code",
   "execution_count": 205,
   "metadata": {},
   "outputs": [
    {
     "data": {
      "text/plain": [
       "2640"
      ]
     },
     "execution_count": 205,
     "metadata": {},
     "output_type": "execute_result"
    }
   ],
   "source": [
    "from math import factorial\n",
    "N = 1024\n",
    "f = factorial(N)\n",
    "len(str(f))"
   ]
  },
  {
   "cell_type": "code",
   "execution_count": 209,
   "metadata": {},
   "outputs": [
    {
     "data": {
      "text/plain": [
       "-1"
      ]
     },
     "execution_count": 209,
     "metadata": {},
     "output_type": "execute_result"
    }
   ],
   "source": [
    "msg = 'Hello, world!'\n",
    "msg.find('zzz')"
   ]
  },
  {
   "cell_type": "code",
   "execution_count": 214,
   "metadata": {},
   "outputs": [
    {
     "data": {
      "text/plain": [
       "False"
      ]
     },
     "execution_count": 214,
     "metadata": {},
     "output_type": "execute_result"
    }
   ],
   "source": [
    "msg = 'Hello, world!'\n",
    "'ellof' in msg"
   ]
  },
  {
   "cell_type": "code",
   "execution_count": 218,
   "metadata": {},
   "outputs": [
    {
     "data": {
      "text/plain": [
       "'hELLO, WORLD!'"
      ]
     },
     "execution_count": 218,
     "metadata": {},
     "output_type": "execute_result"
    }
   ],
   "source": [
    "msg = 'Hello, world!'\n",
    "msg.swapcase()"
   ]
  },
  {
   "cell_type": "code",
   "execution_count": 223,
   "metadata": {},
   "outputs": [
    {
     "name": "stdout",
     "output_type": "stream",
     "text": [
      "Hello, world!\n",
      "True\n",
      "True\n",
      "True\n"
     ]
    }
   ],
   "source": [
    "msg = \"Hello, world!\"\n",
    "\n",
    "print(msg)\n",
    "print(msg.startswith('Hello'))\n",
    "print(msg.endswith('!'))\n",
    "print(msg.upper().startswith('HELLO'))"
   ]
  },
  {
   "cell_type": "code",
   "execution_count": 227,
   "metadata": {},
   "outputs": [
    {
     "data": {
      "text/plain": [
       "['Каждый', 'охотник', 'желает', 'знать', 'где', 'сидит', 'фазан']"
      ]
     },
     "execution_count": 227,
     "metadata": {},
     "output_type": "execute_result"
    }
   ],
   "source": [
    "msg = 'Каждый,охотник,желает,знать,где,сидит,фазан'\n",
    "words = msg.split(',')\n",
    "words"
   ]
  }
 ],
 "metadata": {
  "kernelspec": {
   "display_name": "Python 3",
   "language": "python",
   "name": "python3"
  },
  "language_info": {
   "codemirror_mode": {
    "name": "ipython",
    "version": 3
   },
   "file_extension": ".py",
   "mimetype": "text/x-python",
   "name": "python",
   "nbconvert_exporter": "python",
   "pygments_lexer": "ipython3",
   "version": "3.8.5"
  }
 },
 "nbformat": 4,
 "nbformat_minor": 4
}
