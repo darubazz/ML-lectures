{
 "cells": [
  {
   "cell_type": "markdown",
   "metadata": {},
   "source": [
    "# Словари"
   ]
  },
  {
   "cell_type": "code",
   "execution_count": 6,
   "metadata": {},
   "outputs": [],
   "source": [
    "d = dict(a='apple', b='banana', c='cherry')"
   ]
  },
  {
   "cell_type": "code",
   "execution_count": 29,
   "metadata": {},
   "outputs": [
    {
     "data": {
      "text/plain": [
       "{1: 'one', 2: 'two', 3: 'three', 4: 'four'}"
      ]
     },
     "execution_count": 29,
     "metadata": {},
     "output_type": "execute_result"
    }
   ],
   "source": [
    "d = {1: 'one', 2: 'two', 3: 'three'}\n",
    "d[4] = 'four'\n",
    "d"
   ]
  },
  {
   "cell_type": "code",
   "execution_count": 24,
   "metadata": {},
   "outputs": [
    {
     "data": {
      "text/plain": [
       "'Not Found'"
      ]
     },
     "execution_count": 24,
     "metadata": {},
     "output_type": "execute_result"
    }
   ],
   "source": [
    "status_code = {200: \"OK\", 404: \"Not Found\", 502: \"Bad Gateway\"}\n",
    "status_code.get(404, 'Unknown')"
   ]
  },
  {
   "cell_type": "code",
   "execution_count": 32,
   "metadata": {},
   "outputs": [
    {
     "data": {
      "text/plain": [
       "{400: 'Bad Request',\n",
       " 401: 'Unathorized',\n",
       " 500: 'internal Server Error',\n",
       " 501: 'Not Implemented'}"
      ]
     },
     "execution_count": 32,
     "metadata": {},
     "output_type": "execute_result"
    }
   ],
   "source": [
    "client_errors = {400: 'Bad Request', 401: \"Unathorized\"}\n",
    "server_errors = {500: \"internal Server Error\", 501: \"Not Implemented\"}\n",
    "\n",
    "errors = {}\n",
    "errors.update(client_errors)\n",
    "errors.update(server_errors)\n",
    "\n",
    "errors"
   ]
  },
  {
   "cell_type": "markdown",
   "metadata": {},
   "source": [
    "# Другие коллекции"
   ]
  },
  {
   "cell_type": "code",
   "execution_count": 42,
   "metadata": {},
   "outputs": [
    {
     "data": {
      "text/plain": [
       "{1, 2, 3}"
      ]
     },
     "execution_count": 42,
     "metadata": {},
     "output_type": "execute_result"
    }
   ],
   "source": [
    "L1 = [3, 2, 1, 4, 5, 6]\n",
    "L2 = [1, 1, 2, 2, 3, 3, 3, 3, 1, 1, 2, 3]\n",
    "\n",
    "set2 = set(L2)\n",
    "set2"
   ]
  },
  {
   "cell_type": "code",
   "execution_count": 44,
   "metadata": {},
   "outputs": [
    {
     "ename": "KeyError",
     "evalue": "1",
     "output_type": "error",
     "traceback": [
      "\u001b[0;31m---------------------------------------------------------------------------\u001b[0m",
      "\u001b[0;31mKeyError\u001b[0m                                  Traceback (most recent call last)",
      "\u001b[0;32m<ipython-input-44-440ea0fbbb0e>\u001b[0m in \u001b[0;36m<module>\u001b[0;34m\u001b[0m\n\u001b[1;32m      1\u001b[0m \u001b[0mset2\u001b[0m\u001b[0;34m.\u001b[0m\u001b[0madd\u001b[0m\u001b[0;34m(\u001b[0m\u001b[0;36m4\u001b[0m\u001b[0;34m)\u001b[0m\u001b[0;34m\u001b[0m\u001b[0;34m\u001b[0m\u001b[0m\n\u001b[0;32m----> 2\u001b[0;31m \u001b[0mset2\u001b[0m\u001b[0;34m.\u001b[0m\u001b[0mremove\u001b[0m\u001b[0;34m(\u001b[0m\u001b[0;36m1\u001b[0m\u001b[0;34m)\u001b[0m\u001b[0;34m\u001b[0m\u001b[0;34m\u001b[0m\u001b[0m\n\u001b[0m\u001b[1;32m      3\u001b[0m \u001b[0mset2\u001b[0m\u001b[0;34m\u001b[0m\u001b[0;34m\u001b[0m\u001b[0m\n",
      "\u001b[0;31mKeyError\u001b[0m: 1"
     ]
    }
   ],
   "source": [
    "set2.add(4)\n",
    "set2.remove(1)\n",
    "set2"
   ]
  },
  {
   "cell_type": "code",
   "execution_count": 58,
   "metadata": {},
   "outputs": [
    {
     "name": "stdout",
     "output_type": "stream",
     "text": [
      "{1, 2, 3, 4}\n",
      "{2, 3}\n"
     ]
    },
    {
     "data": {
      "text/plain": [
       "{1, 4}"
      ]
     },
     "execution_count": 58,
     "metadata": {},
     "output_type": "execute_result"
    }
   ],
   "source": [
    "L1 = [1, 2, 3]\n",
    "\n",
    "S1 = set(L1)\n",
    "S2 = set(L1)\n",
    "\n",
    "S1.add(4)\n",
    "S2.remove(1)\n",
    "\n",
    "print(S1)\n",
    "print(S2)\n",
    "\n",
    "S1 ^ S2"
   ]
  },
  {
   "cell_type": "code",
   "execution_count": 65,
   "metadata": {},
   "outputs": [
    {
     "name": "stdout",
     "output_type": "stream",
     "text": [
      "2 4 8\n"
     ]
    }
   ],
   "source": [
    "tup = 2, 4, 8\n",
    "x, y, z = tup\n",
    "\n",
    "print(x, y, z)"
   ]
  },
  {
   "cell_type": "code",
   "execution_count": 68,
   "metadata": {},
   "outputs": [
    {
     "name": "stdout",
     "output_type": "stream",
     "text": [
      "a = 5, b = 10\n"
     ]
    }
   ],
   "source": [
    "a = 10\n",
    "b = 5\n",
    "\n",
    "a, b = b, a\n",
    "\n",
    "print(f'a = {a}, b = {b}')"
   ]
  },
  {
   "cell_type": "code",
   "execution_count": 78,
   "metadata": {},
   "outputs": [
    {
     "data": {
      "text/plain": [
       "[('red', 3)]"
      ]
     },
     "execution_count": 78,
     "metadata": {},
     "output_type": "execute_result"
    }
   ],
   "source": [
    "from collections import Counter\n",
    "words = 'red red red green blue green blue'.split()\n",
    "\n",
    "c = Counter(words)\n",
    "c.most_common(1)"
   ]
  },
  {
   "cell_type": "markdown",
   "metadata": {},
   "source": [
    "# Условия"
   ]
  },
  {
   "cell_type": "code",
   "execution_count": 80,
   "metadata": {},
   "outputs": [],
   "source": [
    "# Логические ложь/ правада False, True\n",
    "# Логические и, или не: and, or, not\n",
    "# Любое число, не равное 0 и любая непустая коллекция - воспринимается как True\n",
    "# 0 и пустые коллекции воспринимаются как False"
   ]
  },
  {
   "cell_type": "code",
   "execution_count": 89,
   "metadata": {},
   "outputs": [
    {
     "name": "stdout",
     "output_type": "stream",
     "text": [
      "Число а - отрицательное\n"
     ]
    }
   ],
   "source": [
    "a = -4\n",
    "\n",
    "if a > 0:\n",
    "    print('Число а - положительное')\n",
    "    \n",
    "    if a % 2 == 0:\n",
    "        print('А ещё число a - четное')\n",
    "        print(\"Какая красота\")\n",
    "        \n",
    "    print(\"А это выполняется в любом сулчае по входу в if\")\n",
    "else:\n",
    "    print(\"Число а - отрицательное\")"
   ]
  },
  {
   "cell_type": "code",
   "execution_count": 94,
   "metadata": {},
   "outputs": [
    {
     "name": "stdout",
     "output_type": "stream",
     "text": [
      "А вот и смена подошла! Я домой!\n"
     ]
    }
   ],
   "source": [
    "surename = 'Николаич'\n",
    "if surename in ['Петров', 'Иванов', 'Сидоров']:\n",
    "    print(f'Здорово, {surename}')\n",
    "    \n",
    "elif surename in ['Петрова', \"Иванова\", \"Сидорова\"]:\n",
    "    print(f'Здравствуйте, {surename}. Вы сегодя прекрасны.')\n",
    "\n",
    "elif surename in ['Николаич']:\n",
    "    print(\"А вот и смена подошла! Я домой!\")\n",
    "    \n",
    "else:\n",
    "    print(f'Фамилии {surename} нет в списках. Иди отсюда, а то спущу собак.')"
   ]
  },
  {
   "cell_type": "code",
   "execution_count": 97,
   "metadata": {},
   "outputs": [],
   "source": [
    "age = 28\n",
    "\n",
    "if 18 <= age <= 27:\n",
    "    print('Год у вас призывной. Идите служить!')"
   ]
  },
  {
   "cell_type": "code",
   "execution_count": 101,
   "metadata": {},
   "outputs": [
    {
     "name": "stdout",
     "output_type": "stream",
     "text": [
      "Рак\n"
     ]
    }
   ],
   "source": [
    "# a = x if cond else y\n",
    "\n",
    "# эквивалентно\n",
    "\n",
    "# if cond:\n",
    "#     a = x\n",
    "# else\n",
    "#     a = y\n",
    "    \n",
    "\n",
    "fish = ''\n",
    "fish = fish if fish else 'Рак'\n",
    "\n",
    "print(fish)"
   ]
  },
  {
   "cell_type": "code",
   "execution_count": 109,
   "metadata": {},
   "outputs": [
    {
     "name": "stdout",
     "output_type": "stream",
     "text": [
      "[]\n"
     ]
    }
   ],
   "source": [
    "# orное присваивание\n",
    "x = ''\n",
    "y = []\n",
    "z = []\n",
    "\n",
    "a = x or y or z\n",
    "print(a)"
   ]
  },
  {
   "cell_type": "markdown",
   "metadata": {},
   "source": [
    "# Циклы"
   ]
  },
  {
   "cell_type": "code",
   "execution_count": 112,
   "metadata": {},
   "outputs": [
    {
     "ename": "NameError",
     "evalue": "name 'выполняются' is not defined",
     "output_type": "error",
     "traceback": [
      "\u001b[0;31m---------------------------------------------------------------------------\u001b[0m",
      "\u001b[0;31mNameError\u001b[0m                                 Traceback (most recent call last)",
      "\u001b[0;32m<ipython-input-112-80afbc127a51>\u001b[0m in \u001b[0;36m<module>\u001b[0;34m\u001b[0m\n\u001b[1;32m      1\u001b[0m \u001b[0;32mwhile\u001b[0m \u001b[0mусловие\u001b[0m\u001b[0;34m:\u001b[0m\u001b[0;34m\u001b[0m\u001b[0;34m\u001b[0m\u001b[0m\n\u001b[0;32m----> 2\u001b[0;31m     \u001b[0mвыполняются\u001b[0m\u001b[0;34m\u001b[0m\u001b[0;34m\u001b[0m\u001b[0m\n\u001b[0m\u001b[1;32m      3\u001b[0m     \u001b[0mинструкции\u001b[0m\u001b[0;34m\u001b[0m\u001b[0;34m\u001b[0m\u001b[0m\n\u001b[1;32m      4\u001b[0m     \u001b[0mкоторые\u001b[0m\u001b[0;34m\u001b[0m\u001b[0;34m\u001b[0m\u001b[0m\n\u001b[1;32m      5\u001b[0m     \u001b[0mбыли\u001b[0m\u001b[0;34m\u001b[0m\u001b[0;34m\u001b[0m\u001b[0m\n",
      "\u001b[0;31mNameError\u001b[0m: name 'выполняются' is not defined"
     ]
    }
   ],
   "source": [
    "while условие:\n",
    "    выполняются\n",
    "    инструкции\n",
    "    которые\n",
    "    были\n",
    "    отбиты\n",
    "    отступами"
   ]
  },
  {
   "cell_type": "code",
   "execution_count": 116,
   "metadata": {},
   "outputs": [
    {
     "name": "stdout",
     "output_type": "stream",
     "text": [
      "2 не является делителем 121\n",
      "3 не является делителем 121\n",
      "4 не является делителем 121\n",
      "5 не является делителем 121\n",
      "6 не является делителем 121\n",
      "7 не является делителем 121\n",
      "8 не является делителем 121\n",
      "9 не является делителем 121\n",
      "10 не является делителем 121\n",
      "11\n"
     ]
    }
   ],
   "source": [
    "N = 121\n",
    "divider = 2\n",
    "\n",
    "while N % divider != 0:\n",
    "    print(f'{divider} не является делителем {N}')\n",
    "    divider += 1\n",
    "    \n",
    "print(divider)"
   ]
  },
  {
   "cell_type": "code",
   "execution_count": 117,
   "metadata": {},
   "outputs": [
    {
     "ename": "SyntaxError",
     "evalue": "invalid syntax (<ipython-input-117-52f727bc984b>, line 2)",
     "output_type": "error",
     "traceback": [
      "\u001b[0;36m  File \u001b[0;32m\"<ipython-input-117-52f727bc984b>\"\u001b[0;36m, line \u001b[0;32m2\u001b[0m\n\u001b[0;31m    присваиваем в переменную obj элементы коллекции collection\u001b[0m\n\u001b[0m                ^\u001b[0m\n\u001b[0;31mSyntaxError\u001b[0m\u001b[0;31m:\u001b[0m invalid syntax\n"
     ]
    }
   ],
   "source": [
    "for obj in collection:\n",
    "    присваиваем в переменную obj элементы коллекции collection\n",
    "    и\n",
    "    делаем\n",
    "    с ними\n",
    "    разное"
   ]
  },
  {
   "cell_type": "code",
   "execution_count": 133,
   "metadata": {},
   "outputs": [
    {
     "name": "stdout",
     "output_type": "stream",
     "text": [
      "Как приготовить летний салат?\n",
      "Нарезаем редис (0)\n",
      "Нарезаем редис (1)\n",
      "Нарезаем редис (2)\n",
      "Перемешиваем. Салат готов.\n"
     ]
    }
   ],
   "source": [
    "foodstuffs = ['помидоры', 'огурцы', 'редис']\n",
    "\n",
    "print('Как приготовить летний салат?')\n",
    "for idx, stuff in enumerate(foodstuffs):\n",
    "    print(f'Нарезаем {food} ({idx})')\n",
    "    \n",
    "print('Перемешиваем. Салат готов.')"
   ]
  },
  {
   "cell_type": "code",
   "execution_count": 130,
   "metadata": {},
   "outputs": [
    {
     "data": {
      "text/plain": [
       "{'э': 1,\n",
       " 'й': 1,\n",
       " ' ': 8,\n",
       " 'ж': 1,\n",
       " 'л': 1,\n",
       " 'о': 1,\n",
       " 'б': 1,\n",
       " 'г': 1,\n",
       " 'д': 1,\n",
       " 'е': 1,\n",
       " 'т': 1,\n",
       " 'у': 1,\n",
       " 'з': 1,\n",
       " 'п': 1,\n",
       " 'р': 1,\n",
       " 'я': 1,\n",
       " 'ч': 1,\n",
       " 'ь': 1,\n",
       " 'ю': 1,\n",
       " 'н': 1,\n",
       " 'ы': 1,\n",
       " 'х': 1,\n",
       " 'с': 1,\n",
       " 'ъ': 1,\n",
       " 'ё': 1,\n",
       " 'м': 1,\n",
       " 'ш': 2,\n",
       " 'и': 1,\n",
       " 'ц': 1,\n",
       " 'в': 1,\n",
       " 'к': 1,\n",
       " 'а': 1,\n",
       " 'ф': 1}"
      ]
     },
     "execution_count": 130,
     "metadata": {},
     "output_type": "execute_result"
    }
   ],
   "source": [
    "charcounter = {}\n",
    "text = 'эй жлоб где туз прячь юных съёмшиц в шкаф'\n",
    "\n",
    "for char in text:\n",
    "    charcounter[char] = charcounter.get(char, 0) + 1\n",
    "    \n",
    "charcounter"
   ]
  },
  {
   "cell_type": "code",
   "execution_count": 138,
   "metadata": {},
   "outputs": [
    {
     "name": "stdout",
     "output_type": "stream",
     "text": [
      "100\n",
      "102\n",
      "104\n",
      "106\n",
      "108\n",
      "110\n"
     ]
    }
   ],
   "source": [
    "#for (int i = 0; i < N; i++)\n",
    "for i in range(100, 111, 2):\n",
    "    print(i)"
   ]
  },
  {
   "cell_type": "code",
   "execution_count": 148,
   "metadata": {},
   "outputs": [
    {
     "name": "stdout",
     "output_type": "stream",
     "text": [
      "400 Bad Request\n",
      "401 Unathorized\n",
      "500 internal Server Error\n",
      "501 Not Implemented\n"
     ]
    }
   ],
   "source": [
    "for key, value in errors.items():\n",
    "    print(key, value)"
   ]
  },
  {
   "cell_type": "code",
   "execution_count": 150,
   "metadata": {},
   "outputs": [
    {
     "name": "stdout",
     "output_type": "stream",
     "text": [
      "На итерации 14 геометрическая прогрессия обгоняет арифметическую: 16384 > 15000\n"
     ]
    }
   ],
   "source": [
    "a = 1000\n",
    "b = 1\n",
    "i = 0\n",
    "\n",
    "while True:\n",
    "    if b > a:\n",
    "        break\n",
    "    \n",
    "    a += 1000\n",
    "    b *= 2\n",
    "    i += 1\n",
    "    \n",
    "print(f'На итерации {i} геометрическая прогрессия обгоняет арифметическую: {b} > {a}')"
   ]
  },
  {
   "cell_type": "code",
   "execution_count": 159,
   "metadata": {},
   "outputs": [
    {
     "name": "stdout",
     "output_type": "stream",
     "text": [
      "РЕПЕР\n",
      "РАДАР\n",
      "И\n",
      "НАГАН\n",
      "И\n",
      "ТОПОТ\n",
      "ВОРОВ\n"
     ]
    }
   ],
   "source": [
    "text = 'каждый уважающий себя репер должен носить радар и наган и слышать топот воров'\n",
    "words = text.split()\n",
    "\n",
    "for word in words:\n",
    "#     print(word)\n",
    "    if word != word[::-1]:\n",
    "        continue\n",
    "        \n",
    "    upcased = word.upper()\n",
    "    print(upcased)"
   ]
  },
  {
   "cell_type": "markdown",
   "metadata": {},
   "source": [
    "# Функции"
   ]
  },
  {
   "cell_type": "code",
   "execution_count": 163,
   "metadata": {},
   "outputs": [],
   "source": [
    "# Функция в общем виде\n",
    "\n",
    "# def имя_функции(ар, гу, мен, ты, аргументы=по_умолчанию):\n",
    "#     делай_раз\n",
    "#     делай_два\n",
    "#     делай_три\n",
    "    \n",
    "#     return результат_функции"
   ]
  },
  {
   "cell_type": "code",
   "execution_count": 165,
   "metadata": {},
   "outputs": [
    {
     "name": "stdout",
     "output_type": "stream",
     "text": [
      "[1, 4, 9, 16, 25, 36, 49, 64, 81, 100]\n"
     ]
    }
   ],
   "source": [
    "def square(x):\n",
    "    y = x ** 2\n",
    "    return y\n",
    "\n",
    "squares = []\n",
    "for i in range(1, 11):\n",
    "    squares.append(square(i))\n",
    "    \n",
    "print(squares)"
   ]
  },
  {
   "cell_type": "code",
   "execution_count": 179,
   "metadata": {},
   "outputs": [
    {
     "name": "stdout",
     "output_type": "stream",
     "text": [
      "[1, 8, 27, 64, 125, 216, 343, 512, 729, 1000]\n"
     ]
    }
   ],
   "source": [
    "def power(x, y=2):\n",
    "    z = x ** y\n",
    "    return z\n",
    "\n",
    "cubes = []\n",
    "for i in range(1, 11):\n",
    "    cubes.append(power(i, 3))\n",
    "    \n",
    "print(cubes)"
   ]
  },
  {
   "cell_type": "code",
   "execution_count": 186,
   "metadata": {},
   "outputs": [
    {
     "name": "stdout",
     "output_type": "stream",
     "text": [
      "[1, 2, 3, 4, 5, 6, 7, 8, 9, 10]\n",
      "385\n",
      "[1, 2, 3, 4, 5, 6, 7, 8, 9, 10]\n"
     ]
    }
   ],
   "source": [
    "def square_sum(x):\n",
    "    x = x.copy()\n",
    "    for i in range(len(x)):\n",
    "        x[i] = x[i] ** 2\n",
    "    \n",
    "    return sum(x)\n",
    "\n",
    "L1 = list(range(1, 11))\n",
    "print(L1)\n",
    "print(square_sum(L1))\n",
    "print(L1)"
   ]
  },
  {
   "cell_type": "code",
   "execution_count": 191,
   "metadata": {},
   "outputs": [
    {
     "name": "stdout",
     "output_type": "stream",
     "text": [
      "[1, 2, 3, 4, 5, 6, 7, 8, 9, 10] до apply\n",
      "[1, 8, 27, 64, 125, 216, 343, 512, 729, 1000] после apply\n"
     ]
    }
   ],
   "source": [
    "def apply(L, f):\n",
    "    applied_L = []\n",
    "    for x in L:\n",
    "        applied_L.append(f(x))\n",
    "        \n",
    "    return applied_L\n",
    "\n",
    "def cube(x):\n",
    "    return x ** 3\n",
    "\n",
    "L1 = list(range(1, 11))\n",
    "print(L1, 'до apply')\n",
    "L2 = apply(L1, cube)\n",
    "print(L2, 'после apply')"
   ]
  },
  {
   "cell_type": "code",
   "execution_count": 194,
   "metadata": {},
   "outputs": [
    {
     "name": "stdout",
     "output_type": "stream",
     "text": [
      "100 1000\n"
     ]
    }
   ],
   "source": [
    "def square_and_cube(x):\n",
    "    square = x ** 2\n",
    "    cube = x ** 3\n",
    "    \n",
    "    return square, cube\n",
    "\n",
    "square, cube = square_and_cube(10)\n",
    "print(square, cube)"
   ]
  },
  {
   "cell_type": "code",
   "execution_count": 195,
   "metadata": {},
   "outputs": [],
   "source": [
    "# lambda x: x ** 2\n",
    "\n",
    "# эквивалент\n",
    "\n",
    "# def f(x):\n",
    "#    return x ** 2"
   ]
  },
  {
   "cell_type": "code",
   "execution_count": 198,
   "metadata": {},
   "outputs": [
    {
     "name": "stdout",
     "output_type": "stream",
     "text": [
      "['мир', 'труд', 'май']\n",
      "['МИР', 'ТРУД', 'МАЙ']\n"
     ]
    }
   ],
   "source": [
    "def apply(L, f):\n",
    "    applied_L = []\n",
    "    for x in L:\n",
    "        applied_L.append(f(x))\n",
    "        \n",
    "    return applied_L\n",
    "\n",
    "L1 = 'мир труд май'.split()\n",
    "L2 = apply(L1, lambda x: x.upper())\n",
    "\n",
    "print(L1)\n",
    "print(L2)"
   ]
  },
  {
   "cell_type": "code",
   "execution_count": 202,
   "metadata": {},
   "outputs": [
    {
     "name": "stdout",
     "output_type": "stream",
     "text": [
      "[1, 2, 3]\n",
      "[10, 20, 30]\n",
      "[10, 40, 90]\n"
     ]
    }
   ],
   "source": [
    "# lambda x, y: x + y\n",
    "\n",
    "# Эквивалент\n",
    "\n",
    "# def f(x, y):\n",
    "# return x + y\n",
    "\n",
    "def apply2(L1, L2, f):\n",
    "    L3 = []\n",
    "    \n",
    "    for x1, x2 in zip(L1, L2):\n",
    "        L3.append(f(x1, x2))\n",
    "        \n",
    "    return L3\n",
    "\n",
    "L1 = [1, 2, 3]\n",
    "L2 = [10, 20, 30]\n",
    "L3 = apply2(L1, L2, lambda x, y: x * y)\n",
    "\n",
    "print(L1)\n",
    "print(L2)\n",
    "print(L3)\n"
   ]
  },
  {
   "cell_type": "code",
   "execution_count": 214,
   "metadata": {},
   "outputs": [
    {
     "name": "stdout",
     "output_type": "stream",
     "text": [
      "argument a, value = 1\n",
      "argument b, value = 2\n",
      "argument c, value = 3\n"
     ]
    },
    {
     "data": {
      "text/plain": [
       "15"
      ]
     },
     "execution_count": 214,
     "metadata": {},
     "output_type": "execute_result"
    }
   ],
   "source": [
    "def foo(*args, **kwargs):\n",
    "    \n",
    "    for key, value in kwargs.items():\n",
    "        print(f'argument {key}, value = {value}')\n",
    "        \n",
    "    S = 0\n",
    "    for arg in args:\n",
    "        S += arg\n",
    "        \n",
    "    return S\n",
    "\n",
    "foo(1, 2, 3, 4, 5, a=1, b=2, c=3)"
   ]
  },
  {
   "cell_type": "markdown",
   "metadata": {},
   "source": [
    "# Модули"
   ]
  },
  {
   "cell_type": "code",
   "execution_count": 217,
   "metadata": {},
   "outputs": [
    {
     "name": "stdout",
     "output_type": "stream",
     "text": [
      "math.pi = 3.141592653589793\n"
     ]
    }
   ],
   "source": [
    "import math\n",
    "\n",
    "print(f'math.pi = {math.pi}')"
   ]
  },
  {
   "cell_type": "code",
   "execution_count": 219,
   "metadata": {},
   "outputs": [
    {
     "name": "stdout",
     "output_type": "stream",
     "text": [
      "m.pi = 3.141592653589793\n"
     ]
    }
   ],
   "source": [
    "import math as m\n",
    "\n",
    "print(f'm.pi = {m.pi}')"
   ]
  },
  {
   "cell_type": "code",
   "execution_count": 220,
   "metadata": {},
   "outputs": [
    {
     "name": "stdout",
     "output_type": "stream",
     "text": [
      "3.141592653589793\n"
     ]
    }
   ],
   "source": [
    "from math import pi\n",
    "print(pi)"
   ]
  },
  {
   "cell_type": "code",
   "execution_count": 222,
   "metadata": {},
   "outputs": [
    {
     "data": {
      "text/plain": [
       "10.0"
      ]
     },
     "execution_count": 222,
     "metadata": {},
     "output_type": "execute_result"
    }
   ],
   "source": [
    "from math import *\n",
    "\n",
    "sqrt(100)"
   ]
  },
  {
   "cell_type": "code",
   "execution_count": 225,
   "metadata": {},
   "outputs": [
    {
     "data": {
      "text/plain": [
       "3.141592653589793"
      ]
     },
     "execution_count": 225,
     "metadata": {},
     "output_type": "execute_result"
    }
   ],
   "source": [
    "from math import pi as Пи\n",
    "\n",
    "Пи"
   ]
  },
  {
   "cell_type": "code",
   "execution_count": 226,
   "metadata": {},
   "outputs": [],
   "source": [
    "!echo \"x = 1\" > consts.py\n",
    "!echo \"y = 11\" >> consts.py"
   ]
  },
  {
   "cell_type": "code",
   "execution_count": 230,
   "metadata": {},
   "outputs": [
    {
     "data": {
      "text/plain": [
       "(1, 11)"
      ]
     },
     "execution_count": 230,
     "metadata": {},
     "output_type": "execute_result"
    }
   ],
   "source": [
    "from consts import x, y\n",
    "x, y"
   ]
  },
  {
   "cell_type": "markdown",
   "metadata": {},
   "source": [
    "# Джедайские техники"
   ]
  },
  {
   "cell_type": "code",
   "execution_count": 236,
   "metadata": {},
   "outputs": [],
   "source": [
    "L = []\n",
    "for i in range(1, 11):\n",
    "    L.append(i)\n",
    "\n",
    "L = [i for i in range(1, 11)]"
   ]
  },
  {
   "cell_type": "code",
   "execution_count": 239,
   "metadata": {},
   "outputs": [
    {
     "data": {
      "text/plain": [
       "[1, 4, 9, 16, 25, 36, 49, 64, 81, 100]"
      ]
     },
     "execution_count": 239,
     "metadata": {},
     "output_type": "execute_result"
    }
   ],
   "source": [
    "squares = [i ** 2 for i in range(1, 11)]\n",
    "squares"
   ]
  },
  {
   "cell_type": "code",
   "execution_count": 242,
   "metadata": {},
   "outputs": [
    {
     "data": {
      "text/plain": [
       "[4, 16, 36, 64, 100]"
      ]
     },
     "execution_count": 242,
     "metadata": {},
     "output_type": "execute_result"
    }
   ],
   "source": [
    "even_squares = [i ** 2 for i in range(1, 11) if i % 2 == 0]\n",
    "even_squares"
   ]
  },
  {
   "cell_type": "code",
   "execution_count": 263,
   "metadata": {},
   "outputs": [
    {
     "data": {
      "text/plain": [
       "[0.14748887285168377,\n",
       " 0.7945810670284178,\n",
       " 0.931903805546956,\n",
       " 0.8183889995412056,\n",
       " 0.7568243601201918]"
      ]
     },
     "execution_count": 263,
     "metadata": {},
     "output_type": "execute_result"
    }
   ],
   "source": [
    "from random import random\n",
    "\n",
    "random_vector = [random() for i in range(5)]\n",
    "random_vector"
   ]
  },
  {
   "cell_type": "code",
   "execution_count": 267,
   "metadata": {},
   "outputs": [
    {
     "data": {
      "text/plain": [
       "25"
      ]
     },
     "execution_count": 267,
     "metadata": {},
     "output_type": "execute_result"
    }
   ],
   "source": [
    "squares = {i: i ** 2 for i in range(1, 11)}"
   ]
  },
  {
   "cell_type": "code",
   "execution_count": 269,
   "metadata": {},
   "outputs": [
    {
     "data": {
      "text/plain": [
       "{2: 4, 4: 16, 6: 36, 8: 64, 10: 100}"
      ]
     },
     "execution_count": 269,
     "metadata": {},
     "output_type": "execute_result"
    }
   ],
   "source": [
    "even_squares = {i: i ** 2 for i in range(1, 11) if i % 2 == 0}\n",
    "even_squares"
   ]
  },
  {
   "cell_type": "code",
   "execution_count": 272,
   "metadata": {},
   "outputs": [
    {
     "name": "stdout",
     "output_type": "stream",
     "text": [
      "Адыгея 01\n",
      "Башкортостан 02\n",
      "Бурятия 03\n",
      "Алтай 04\n"
     ]
    }
   ],
   "source": [
    "region_code = ['01', '02', '03', '04']\n",
    "region_name = ['Адыгея', 'Башкортостан', 'Бурятия', 'Алтай']\n",
    "\n",
    "for idx, code in enumerate(region_code):\n",
    "    print(region_name[idx], code)"
   ]
  },
  {
   "cell_type": "code",
   "execution_count": 274,
   "metadata": {},
   "outputs": [
    {
     "name": "stdout",
     "output_type": "stream",
     "text": [
      "Адыгея 01\n",
      "Башкортостан 02\n",
      "Бурятия 03\n",
      "Алтай 04\n"
     ]
    }
   ],
   "source": [
    "region_code = ['01', '02', '03', '04']\n",
    "region_name = ['Адыгея', 'Башкортостан', 'Бурятия', 'Алтай']\n",
    "\n",
    "for name, code in zip(region_name, region_code):\n",
    "    print(name, code)"
   ]
  },
  {
   "cell_type": "code",
   "execution_count": 282,
   "metadata": {},
   "outputs": [
    {
     "data": {
      "text/plain": [
       "['Бразилия', 'Китай', 'США', 'Канада', 'Россия']"
      ]
     },
     "execution_count": 282,
     "metadata": {},
     "output_type": "execute_result"
    }
   ],
   "source": [
    "area = {'Бразилия': 8.515, 'Канада': 9.985, 'США': 9.631, 'Китай': 9.597, 'Россия': 17.1}\n",
    "\n",
    "sorted(area, key=lambda x: area[x])"
   ]
  },
  {
   "cell_type": "code",
   "execution_count": 281,
   "metadata": {},
   "outputs": [
    {
     "data": {
      "text/plain": [
       "[1, 2, -3, -5, 6, -10]"
      ]
     },
     "execution_count": 281,
     "metadata": {},
     "output_type": "execute_result"
    }
   ],
   "source": [
    "L = [6, -5, 2, -3, 1, -10]\n",
    "sorted(L, key=lambda x: abs(x))"
   ]
  }
 ],
 "metadata": {
  "kernelspec": {
   "display_name": "Python 3",
   "language": "python",
   "name": "python3"
  },
  "language_info": {
   "codemirror_mode": {
    "name": "ipython",
    "version": 3
   },
   "file_extension": ".py",
   "mimetype": "text/x-python",
   "name": "python",
   "nbconvert_exporter": "python",
   "pygments_lexer": "ipython3",
   "version": "3.8.5"
  }
 },
 "nbformat": 4,
 "nbformat_minor": 4
}
