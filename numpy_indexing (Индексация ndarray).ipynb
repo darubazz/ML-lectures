{
 "cells": [
  {
   "cell_type": "code",
   "execution_count": null,
   "metadata": {},
   "outputs": [],
   "source": [
    "import numpy as np"
   ]
  },
  {
   "cell_type": "markdown",
   "metadata": {},
   "source": [
    "# Индексация ndarray\n",
    "## Срезы\n",
    "Как и встроенный тип данных `list`, `ndarray` поддерживает индексацию срезами (`slice`). \n",
    "\n",
    "Объекты типа `slice` задаются в самом общем виде следующим образом: `откуда:докуда:шаг`. Их значения по умолчанию: `0:len(arr):1`. Выведем все чётные элементы массива:\n"
   ]
  },
  {
   "cell_type": "code",
   "execution_count": 2,
   "metadata": {},
   "outputs": [
    {
     "name": "stdout",
     "output_type": "stream",
     "text": [
      "arr = [0 1 2 3 4 5 6 7 8 9]\n",
      "arr[2::2] = [2 4 6 8]\n",
      "\n",
      "В предыдущем примере был опущен параметр \"докуда\" и срез шёл до конца. Так же можно опускать параметр \"откуда\":\n",
      "arr[::2] = [0 2 4 6 8]\n"
     ]
    }
   ],
   "source": [
    "import numpy as np\n",
    "arr = np.arange(10)\n",
    "print(f'arr = {arr}')\n",
    "print(f'arr[2::2] = {arr[2::2]}')\n",
    "\n",
    "print(f'\\nВ предыдущем примере был опущен параметр \"докуда\" и срез шёл до конца. Так же можно опускать параметр \"откуда\":')\n",
    "print(f'arr[::2] = {arr[::2]}')"
   ]
  },
  {
   "cell_type": "markdown",
   "metadata": {},
   "source": [
    "## Использование индексации для присвоения значения\n",
    "Индексацию не обязательно использовать для создание новых массивов. Её можно использовать для имзенения существующих"
   ]
  },
  {
   "cell_type": "code",
   "execution_count": 3,
   "metadata": {},
   "outputs": [
    {
     "name": "stdout",
     "output_type": "stream",
     "text": [
      "arr = [0 1 2 3 4 5 6 7 8 9]\n",
      "Выполним arr[2::2] = 0\n",
      "Теперь arr = [0 1 0 3 0 5 0 7 0 9]\n"
     ]
    }
   ],
   "source": [
    "arr = np.arange(10)\n",
    "print(f'arr = {arr}')\n",
    "print(f'Выполним arr[2::2] = 0')\n",
    "arr[2::2] = 0\n",
    "print(f'Теперь arr = {arr}')"
   ]
  },
  {
   "cell_type": "code",
   "execution_count": null,
   "metadata": {},
   "outputs": [],
   "source": []
  },
  {
   "cell_type": "markdown",
   "metadata": {},
   "source": [
    "### Шаг среза по умолчанию\n",
    "Параметр среза `шаг` часто опускается и принимается равным единице. Опускать можно вместе с последним двоеточием. "
   ]
  },
  {
   "cell_type": "code",
   "execution_count": 4,
   "metadata": {},
   "outputs": [
    {
     "name": "stdout",
     "output_type": "stream",
     "text": [
      "\n",
      "Опустим параметр шага: arr[2:8:] = [2 3 4 5 6 7]\n",
      "Это будет эквивалентно: arr[2:8] = [2 3 4 5 6 7]\n"
     ]
    }
   ],
   "source": [
    "arr = np.arange(10)\n",
    "print(f'\\nОпустим параметр шага: arr[2:8:] = {arr[2:8:]}')\n",
    "print(f'Это будет эквивалентно: arr[2:8] = {arr[2:8]}')"
   ]
  },
  {
   "cell_type": "code",
   "execution_count": null,
   "metadata": {},
   "outputs": [],
   "source": []
  },
  {
   "cell_type": "markdown",
   "metadata": {},
   "source": [
    "### Границы среза\n",
    "При выборе границ среза **важно помнить**:\n",
    "* **откуда** указывается **включительно**\n",
    "* **докуда** указывается **не включительно**. \n",
    "\n",
    "Смотрим пример:"
   ]
  },
  {
   "cell_type": "code",
   "execution_count": 5,
   "metadata": {},
   "outputs": [
    {
     "name": "stdout",
     "output_type": "stream",
     "text": [
      "arr[2] == 2\n",
      "arr[5] == 5\n",
      "arr[1:5] == [1 2 3 4]\n",
      "arr[5] НЕ входит в срез массива до 5го элемента\n"
     ]
    }
   ],
   "source": [
    "arr = np.arange(10)\n",
    "print(f'arr[2] == {arr[2]}')\n",
    "print(f'arr[5] == {arr[5]}')\n",
    "print(f'arr[1:5] == {arr[1:5]}')\n",
    "print(f'arr[5] НЕ входит в срез массива до 5го элемента')"
   ]
  },
  {
   "cell_type": "code",
   "execution_count": null,
   "metadata": {},
   "outputs": [],
   "source": []
  },
  {
   "cell_type": "markdown",
   "metadata": {},
   "source": [
    "Чтобы однажды не подорваться на этой особенности, могу предложить пользоваться мнемоническим правилом. Пусть оно будет _правилом магазина_.\n",
    "\n",
    "Если мы видим табличку `Часы работы магазина: 10-18` , то это значит, что если придти туда в _10_ часов он будет работать, а если в _18_ - то уже нет."
   ]
  },
  {
   "cell_type": "markdown",
   "metadata": {},
   "source": [
    "### Отрицательный шаг\n",
    "А ещё шаг может быть отрицательным. В таком случае порядок массива будет обратным. Допустим, мы берём срез массива `arr[a:b:-int]`. Тогда срез будет выглядеть следование от `a` до `b` в обратном порядке с шагом в `int`. Важно помнить:\n",
    "* a > b\n",
    "* _Правило магазина_ в силе. Элемент b не включается в срез"
   ]
  },
  {
   "cell_type": "code",
   "execution_count": 6,
   "metadata": {},
   "outputs": [
    {
     "name": "stdout",
     "output_type": "stream",
     "text": [
      "Берём срез 8:2:-2\n",
      "arr[8] == 8, arr[2] == 2\n",
      "arr[8:2:-2] = [8 6 4]\n"
     ]
    }
   ],
   "source": [
    "a, b = 8, 2\n",
    "step = -2\n",
    "\n",
    "arr = np.arange(10)\n",
    "print(f'Берём срез {a}:{b}:{step}')\n",
    "print(f'arr[{a}] == {arr[a]}, arr[{b}] == {arr[b]}')\n",
    "print(f'arr[{a}:{b}:{step}] = {arr[a:b:step]}')"
   ]
  },
  {
   "cell_type": "code",
   "execution_count": null,
   "metadata": {},
   "outputs": [],
   "source": []
  },
  {
   "cell_type": "markdown",
   "metadata": {},
   "source": [
    "Так же отрицательным шагом можно воспользоваться для разворота массива:"
   ]
  },
  {
   "cell_type": "code",
   "execution_count": null,
   "metadata": {},
   "outputs": [],
   "source": [
    "arr = np.arange(10)\n",
    "print(f'arr = {arr}')\n",
    "print(f'arr[::-1] = {arr[::-1]}')"
   ]
  },
  {
   "cell_type": "markdown",
   "metadata": {},
   "source": [
    "## Булевы маски\n",
    "Другим способом индексации является индексация при помощи булевых масок. Булевой маской является любой `iterable` объект, содержащий элементы типа `bool`. Чтобы применить маску к массиву необходимо, чтобы маска по форме соотвествовала массиву."
   ]
  },
  {
   "cell_type": "code",
   "execution_count": 7,
   "metadata": {},
   "outputs": [
    {
     "name": "stdout",
     "output_type": "stream",
     "text": [
      "arr = [0 1 2 3 4]\n",
      "mask = [True, False, True, False, True], type(mask) = <class 'list'> <--- Заметьте, тип обыкновенный list\n",
      "arr[mask] = [0 2 4]\n"
     ]
    }
   ],
   "source": [
    "arr = np.arange(5)\n",
    "mask = [True, False, True, False, True]\n",
    "print(f'arr = {arr}')\n",
    "print(f'mask = {mask}, type(mask) = {type(mask)} <--- Заметьте, тип обыкновенный list')\n",
    "print(f'arr[mask] = {arr[mask]}')"
   ]
  },
  {
   "cell_type": "code",
   "execution_count": null,
   "metadata": {},
   "outputs": [],
   "source": []
  },
  {
   "cell_type": "markdown",
   "metadata": {},
   "source": [
    "### Создание булевых масок операциями сравнения\n",
    "Несомненно, писать булевы маски вручную - это отдельный вид прекрасного. Однако проще создавать их применяя к `ndarray` операторы сравнения. Допустим, мы хотим найти все отрицательные элементы в массиве"
   ]
  },
  {
   "cell_type": "code",
   "execution_count": 8,
   "metadata": {},
   "outputs": [
    {
     "name": "stdout",
     "output_type": "stream",
     "text": [
      "arr = [ 0  1 -2 -5 -5 -2 -5 -2 -4 -4]\n",
      "\n",
      "Теперь применим к массиву оператор < и посмотрим, что из этого выйдет: \n",
      "mask = arr < 0 = [False False  True  True  True  True  True  True  True  True]\n",
      "arr[mask] = [-2 -5 -5 -2 -5 -2 -4 -4]\n",
      "\n",
      "В нагрузку можно быстро подсчитать количество таких элементов не делая срезов массива:\n",
      "np.sum(mask) = 8\n"
     ]
    }
   ],
   "source": [
    "arr = np.random.randint(-5, 5, 10)\n",
    "print(f'arr = {arr}')\n",
    "\n",
    "mask = arr < 0\n",
    "print(f'\\nТеперь применим к массиву оператор < и посмотрим, что из этого выйдет: ')\n",
    "print(f'mask = arr < 0 = {mask}')\n",
    "print(f'arr[mask] = {arr[mask]}')\n",
    "\n",
    "print('\\nВ нагрузку можно быстро подсчитать количество таких элементов не делая срезов массива:')\n",
    "print(f'np.sum(mask) = {np.sum(mask)}')"
   ]
  },
  {
   "cell_type": "code",
   "execution_count": null,
   "metadata": {},
   "outputs": [],
   "source": []
  },
  {
   "cell_type": "markdown",
   "metadata": {},
   "source": [
    "**NB: маски не сохраняют форму исходного массива всегда возвращая одномерный** `ndarray`"
   ]
  },
  {
   "cell_type": "code",
   "execution_count": null,
   "metadata": {},
   "outputs": [],
   "source": [
    "arr = np.random.randint(-5, 5, size=(4, 4))\n",
    "mask = arr < 0\n",
    "print(f'arr:\\n{arr}')\n",
    "print(f'\\nmask = arr < 0:\\n{mask}')\n",
    "print(f'\\narr[mask] = {arr[mask]}, arr[mask].shape = {arr[mask].shape}')"
   ]
  },
  {
   "cell_type": "markdown",
   "metadata": {},
   "source": [
    "Однако, при использовании таких масок для изменения значений исходная форма сохранится:"
   ]
  },
  {
   "cell_type": "code",
   "execution_count": null,
   "metadata": {},
   "outputs": [],
   "source": [
    "arr = np.random.randint(-5, 5, size=(4, 4))\n",
    "print(f'arr:\\n{arr}')\n",
    "\n",
    "arr[arr < 0] = 0\n",
    "print(f'\\nНеотрицательный arr:\\n{arr}')"
   ]
  },
  {
   "cell_type": "markdown",
   "metadata": {},
   "source": [
    "## Прихотливая (fancy) индексация\n",
    "Отдельный вид прекрасного - прихотливая индексация. Чтобы сделать сечение можно передавать целевые индексы в любом `iterable`. Вот так:"
   ]
  },
  {
   "cell_type": "code",
   "execution_count": null,
   "metadata": {},
   "outputs": [],
   "source": [
    "arr = np.random.randint(1, 101, 10)\n",
    "idx = [2, 5, 1, 7]\n",
    "print(f'arr = {arr}')\n",
    "print(f'idx = {idx}, type(idx) = {type(idx)}')\n",
    "print(f'\\narr[idx] = {arr[idx]}')"
   ]
  },
  {
   "cell_type": "markdown",
   "metadata": {},
   "source": [
    "Прихотливая индексация подходит и для n-мерных `ndarray`. \n",
    "\n",
    "Чтобы выбрать точки $(x_1, y_1), (x_2, y_2), ... (x_n, y_n)$ из двумерного массива, нужно передать их в манере `arr[[x1, x2,..., xn], [y1, y2,..., yn]]`"
   ]
  },
  {
   "cell_type": "code",
   "execution_count": null,
   "metadata": {},
   "outputs": [],
   "source": [
    "arr = np.arange(36).reshape(6, 6)\n",
    "\n",
    "pts = ((0, 4), (2, 2), (4, 3))\n",
    "x_idx = [pt[0] for pt in pts]\n",
    "y_idx = [pt[1] for pt in pts]\n",
    "\n",
    "print(f'arr: \\n{arr}')\n",
    "print(f'\\nТочки в массиве:')\n",
    "for point in pts:\n",
    "    print(point)\n",
    "\n",
    "print(f'\\nОтсюда x_idx = {x_idx}, y_idx = {y_idx}')\n",
    "print(f'\\nИ тогда arr[x_idx, y_idx] = {arr[x_idx, y_idx]}')"
   ]
  },
  {
   "cell_type": "markdown",
   "metadata": {},
   "source": [
    "Однако, вместо одного из измерений можно передать пустое сечение `:` чтобы взять его целиком. Например, выберем первый и последний столбцы:"
   ]
  },
  {
   "cell_type": "code",
   "execution_count": null,
   "metadata": {},
   "outputs": [],
   "source": [
    "arr = np.arange(36).reshape(6, 6)\n",
    "print(f'arr: \\n{arr}')\n",
    "print(f'\\narr[:, [0, -1]]: \\n{arr[:, [0, -1]]}')"
   ]
  }
 ],
 "metadata": {
  "kernelspec": {
   "display_name": "Python 3",
   "language": "python",
   "name": "python3"
  },
  "language_info": {
   "codemirror_mode": {
    "name": "ipython",
    "version": 3
   },
   "file_extension": ".py",
   "mimetype": "text/x-python",
   "name": "python",
   "nbconvert_exporter": "python",
   "pygments_lexer": "ipython3",
   "version": "3.8.5"
  }
 },
 "nbformat": 4,
 "nbformat_minor": 2
}
